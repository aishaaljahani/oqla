{
 "cells": [
  {
   "cell_type": "code",
   "execution_count": null,
   "metadata": {},
   "outputs": [
    {
     "name": "stdout",
     "output_type": "stream",
     "text": [
      " * Serving Flask app \"__main__\" (lazy loading)\n",
      " * Environment: production\n",
      "   WARNING: This is a development server. Do not use it in a production deployment.\n",
      "   Use a production WSGI server instead.\n",
      " * Debug mode: off\n"
     ]
    },
    {
     "name": "stderr",
     "output_type": "stream",
     "text": [
      " * Running on http://127.0.0.1:5000/ (Press CTRL+C to quit)\n",
      "127.0.0.1 - - [29/May/2021 07:08:06] \"GET / HTTP/1.1\" 200 -\n",
      "127.0.0.1 - - [29/May/2021 07:08:08] \"GET /revesion HTTP/1.1\" 200 -\n",
      "127.0.0.1 - - [29/May/2021 07:08:08] \"GET /LOGO.svg HTTP/1.1\" 404 -\n",
      "127.0.0.1 - - [29/May/2021 07:08:08] \"GET /cer.svg HTTP/1.1\" 404 -\n",
      "127.0.0.1 - - [29/May/2021 07:08:10] \"GET /home HTTP/1.1\" 200 -\n",
      "127.0.0.1 - - [29/May/2021 07:08:18] \"GET /home HTTP/1.1\" 200 -\n",
      "127.0.0.1 - - [29/May/2021 07:08:20] \"GET /revesion HTTP/1.1\" 200 -\n",
      "127.0.0.1 - - [29/May/2021 07:08:20] \"GET /LOGO.svg HTTP/1.1\" 404 -\n",
      "127.0.0.1 - - [29/May/2021 07:08:20] \"GET /cer.svg HTTP/1.1\" 404 -\n"
     ]
    }
   ],
   "source": [
    "from flask import Flask, render_template\n",
    "\n",
    "app = Flask(__name__)\n",
    "\n",
    "@app.route('/')\n",
    "def page():\n",
    "   return render_template('home.html')\n",
    "\n",
    "@app.route('/home')\n",
    "def home():\n",
    "   return render_template('home.html')\n",
    "\n",
    "@app.route('/revesion')\n",
    "def revision():\n",
    "   return render_template('revesion.html')\n",
    "\n",
    "@app.route('Al-Baqarah')\n",
    "def revision():\n",
    "   return render_template('ba')\n",
    "\n",
    "if __name__ == '__main__':\n",
    "   app.run()"
   ]
  },
  {
   "cell_type": "code",
   "execution_count": null,
   "metadata": {},
   "outputs": [],
   "source": []
  },
  {
   "cell_type": "code",
   "execution_count": null,
   "metadata": {},
   "outputs": [],
   "source": []
  }
 ],
 "metadata": {
  "kernelspec": {
   "display_name": "Python 3",
   "language": "python",
   "name": "python3"
  },
  "language_info": {
   "codemirror_mode": {
    "name": "ipython",
    "version": 3
   },
   "file_extension": ".py",
   "mimetype": "text/x-python",
   "name": "python",
   "nbconvert_exporter": "python",
   "pygments_lexer": "ipython3",
   "version": "3.7.7"
  }
 },
 "nbformat": 4,
 "nbformat_minor": 4
}
